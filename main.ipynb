{
 "cells": [
  {
   "cell_type": "code",
   "execution_count": null,
   "metadata": {},
   "outputs": [],
   "source": [
    "# Step 1: Load and save raw data\n",
    "from src.make_dataset import save_raw_data\n",
    "save_raw_data()"
   ]
  },
  {
   "cell_type": "code",
   "execution_count": null,
   "metadata": {},
   "outputs": [],
   "source": [
    "# Step 2: Preprocess\n",
    "from src.preprocess import load_and_preprocess_data\n",
    "X_train, X_test, y_train, y_test = load_and_preprocess_data()"
   ]
  },
  {
   "cell_type": "code",
   "execution_count": null,
   "metadata": {},
   "outputs": [],
   "source": [
    "# Step 3: Train and compare models\n",
    "from src.regression_models import run_models\n",
    "results = run_models(X_train, y_train)"
   ]
  },
  {
   "cell_type": "code",
   "execution_count": null,
   "metadata": {},
   "outputs": [],
   "source": [
    "import matplotlib.pyplot as plt\n",
    "plt.bar(results.keys(), results.values())\n",
    "plt.ylabel(\"MSE (5-fold CV)\")\n",
    "plt.title(\"Model Comparison\")\n",
    "plt.xticks(rotation=45)\n",
    "plt.grid(True)\n",
    "plt.tight_layout()\n",
    "plt.show()"
   ]
  },
  {
   "cell_type": "code",
   "execution_count": null,
   "metadata": {},
   "outputs": [],
   "source": [
    "# Step 4: Final model evaluation\n",
    "from sklearn.linear_model import LinearRegression\n",
    "from src.evaluation import evaluate_model\n",
    "\n",
    "final_model = LinearRegression()\n",
    "final_model.fit(X_train, y_train)\n",
    "evaluate_model(final_model, X_test, y_test, title=\"Linear Regression\")"
   ]
  }
 ],
 "metadata": {
  "kernelspec": {
   "display_name": "Python 3",
   "language": "python",
   "name": "python3"
  },
  "language_info": {
   "name": "python",
   "version": ""
  }
 },
 "nbformat": 4,
 "nbformat_minor": 5
}
