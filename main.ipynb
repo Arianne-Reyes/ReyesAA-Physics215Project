{
 "cells": [
  {
   "cell_type": "code",
   "execution_count": null,
   "metadata": {},
   "outputs": [],
   "source": [
    "# Step 1: Load and save raw data\n",
    "from src.make_dataset import save_raw_data\n",
    "save_raw_data()"
   ]
  },
  {
   "cell_type": "code",
   "execution_count": null,
   "metadata": {},
   "outputs": [],
   "source": [
    "# Step 2: Preprocess\n",
    "from src.preprocess import load_and_preprocess_data\n",
    "X_train, X_test, y_train, y_test = load_and_preprocess_data()"
   ]
  },
  {
   "cell_type": "code",
   "execution_count": null,
   "metadata": {},
   "outputs": [],
   "source": [
    "# Step 2b: Corrupt training data (simulate outlier)\n",
    "import numpy as np\n",
    "X_train_corrupted = X_train.copy()\n",
    "X_train_corrupted[0] += 10  # add large noise to first training sample\n"
   ]
  },
  {
   "cell_type": "code",
   "execution_count": null,
   "metadata": {},
   "outputs": [],
   "source": [
    "# Step 3: Train and compare models on original and corrupted data\n",
    "from src.regression_models import run_models\n",
    "results_original = run_models(X_train, y_train)\n",
    "results_corrupted = run_models(X_train_corrupted, y_train)"
   ]
  },
  {
   "cell_type": "code",
   "execution_count": null,
   "metadata": {},
   "outputs": [],
   "source": [
    "import matplotlib.pyplot as plt\n",
    "plt.figure(figsize=(12,5))\n",
    "plt.subplot(1,2,1)\n",
    "plt.bar(results_original.keys(), results_original.values())\n",
    "plt.title(\"Model Comparison (Original Data)\")\n",
    "plt.ylabel(\"MSE (5-fold CV)\")\n",
    "plt.xticks(rotation=45)\n",
    "plt.grid(True)\n",
    "\n",
    "plt.subplot(1,2,2)\n",
    "plt.bar(results_corrupted.keys(), results_corrupted.values())\n",
    "plt.title(\"Model Comparison (Corrupted Data)\")\n",
    "plt.xticks(rotation=45)\n",
    "plt.grid(True)\n",
    "\n",
    "plt.tight_layout()\n",
    "plt.show()"
   ]
  },
  {
   "cell_type": "code",
   "execution_count": null,
   "metadata": {},
   "outputs": [],
   "source": [
    "# Step 4: Final model evaluation on test set for all models\n",
    "from sklearn.linear_model import LinearRegression, Ridge, Lasso, ElasticNet\n",
    "from src.evaluation import evaluate_model\n",
    "\n",
    "models = {\n",
    "    \"Linear Regression\": LinearRegression(),\n",
    "    \"Ridge\": Ridge(alpha=1.0),\n",
    "    \"LASSO\": Lasso(alpha=0.1),\n",
    "    \"Elastic Net\": ElasticNet(alpha=0.1, l1_ratio=0.5),\n",
    "}\n",
    "\n",
    "for name, model in models.items():\n",
    "    model.fit(X_train, y_train)  # train on full original training set\n",
    "    print(f\"Evaluating {name} on test set:\")\n",
    "    evaluate_model(model, X_test, y_test, title=name)\n"
   ]
  }
 ],
 "metadata": {
  "kernelspec": {
   "display_name": "Python 3",
   "language": "python",
   "name": "python3"
  },
  "language_info": {
   "name": "python",
   "version": ""
  }
 },
 "nbformat": 4,
 "nbformat_minor": 5
}
